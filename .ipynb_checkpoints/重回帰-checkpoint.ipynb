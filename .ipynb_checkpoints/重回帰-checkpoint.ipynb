{
 "cells": [
  {
   "cell_type": "code",
   "execution_count": 7,
   "id": "5bdf2590",
   "metadata": {},
   "outputs": [],
   "source": [
    "import pandas as pd\n",
    "import matplotlib.pyplot as plt\n",
    "import numpy as np\n",
    "import pystan\n",
    "import seaborn as sns\n",
    "%matplotlib inline"
   ]
  },
  {
   "cell_type": "code",
   "execution_count": 8,
   "id": "edc45de5",
   "metadata": {},
   "outputs": [],
   "source": [
    "plt.style.use('ggplot')"
   ]
  },
  {
   "cell_type": "code",
   "execution_count": 9,
   "id": "817ca3f2",
   "metadata": {},
   "outputs": [],
   "source": [
    "df = pd.read_excel('./real_estate2.xlsx', engine='openpyxl')"
   ]
  },
  {
   "cell_type": "code",
   "execution_count": 10,
   "id": "f0ac4bdc",
   "metadata": {},
   "outputs": [
    {
     "data": {
      "text/html": [
       "<div>\n",
       "<style scoped>\n",
       "    .dataframe tbody tr th:only-of-type {\n",
       "        vertical-align: middle;\n",
       "    }\n",
       "\n",
       "    .dataframe tbody tr th {\n",
       "        vertical-align: top;\n",
       "    }\n",
       "\n",
       "    .dataframe thead th {\n",
       "        text-align: right;\n",
       "    }\n",
       "</style>\n",
       "<table border=\"1\" class=\"dataframe\">\n",
       "  <thead>\n",
       "    <tr style=\"text-align: right;\">\n",
       "      <th></th>\n",
       "      <th>id</th>\n",
       "      <th>station</th>\n",
       "      <th>distance</th>\n",
       "      <th>space</th>\n",
       "      <th>room</th>\n",
       "      <th>year</th>\n",
       "      <th>type</th>\n",
       "      <th>value</th>\n",
       "    </tr>\n",
       "  </thead>\n",
       "  <tbody>\n",
       "    <tr>\n",
       "      <th>0</th>\n",
       "      <td>1</td>\n",
       "      <td>Y</td>\n",
       "      <td>徒歩10分以内</td>\n",
       "      <td>70</td>\n",
       "      <td>3LDK</td>\n",
       "      <td>1983</td>\n",
       "      <td>-</td>\n",
       "      <td>910</td>\n",
       "    </tr>\n",
       "    <tr>\n",
       "      <th>1</th>\n",
       "      <td>2</td>\n",
       "      <td>Y</td>\n",
       "      <td>徒歩10分以内</td>\n",
       "      <td>70</td>\n",
       "      <td>2LDK</td>\n",
       "      <td>1983</td>\n",
       "      <td>D</td>\n",
       "      <td>1120</td>\n",
       "    </tr>\n",
       "    <tr>\n",
       "      <th>2</th>\n",
       "      <td>3</td>\n",
       "      <td>Y</td>\n",
       "      <td>徒歩10分以内</td>\n",
       "      <td>70</td>\n",
       "      <td>2LDK</td>\n",
       "      <td>1983</td>\n",
       "      <td>A</td>\n",
       "      <td>1190</td>\n",
       "    </tr>\n",
       "    <tr>\n",
       "      <th>3</th>\n",
       "      <td>4</td>\n",
       "      <td>Y</td>\n",
       "      <td>徒歩10分以内</td>\n",
       "      <td>70</td>\n",
       "      <td>4LDK</td>\n",
       "      <td>1983</td>\n",
       "      <td>A</td>\n",
       "      <td>1190</td>\n",
       "    </tr>\n",
       "    <tr>\n",
       "      <th>4</th>\n",
       "      <td>5</td>\n",
       "      <td>Y</td>\n",
       "      <td>徒歩10分以内</td>\n",
       "      <td>70</td>\n",
       "      <td>4LDK</td>\n",
       "      <td>1983</td>\n",
       "      <td>A</td>\n",
       "      <td>1190</td>\n",
       "    </tr>\n",
       "  </tbody>\n",
       "</table>\n",
       "</div>"
      ],
      "text/plain": [
       "   id station distance  space  room  year type  value\n",
       "0   1       Y  徒歩10分以内     70  3LDK  1983    -    910\n",
       "1   2       Y  徒歩10分以内     70  2LDK  1983    D   1120\n",
       "2   3       Y  徒歩10分以内     70  2LDK  1983    A   1190\n",
       "3   4       Y  徒歩10分以内     70  4LDK  1983    A   1190\n",
       "4   5       Y  徒歩10分以内     70  4LDK  1983    A   1190"
      ]
     },
     "execution_count": 10,
     "metadata": {},
     "output_type": "execute_result"
    }
   ],
   "source": [
    "df.head()"
   ]
  },
  {
   "cell_type": "code",
   "execution_count": 11,
   "id": "53bfa885",
   "metadata": {},
   "outputs": [],
   "source": [
    "df['elapsed'] = 2021 - df['year']"
   ]
  },
  {
   "cell_type": "code",
   "execution_count": 12,
   "id": "77bfcb63",
   "metadata": {},
   "outputs": [
    {
     "data": {
      "text/plain": [
       "array(['徒歩10分以内', '徒歩15分以内', '徒歩5分以内', '徒歩15分超', 'バス', '-'], dtype=object)"
      ]
     },
     "execution_count": 12,
     "metadata": {},
     "output_type": "execute_result"
    }
   ],
   "source": [
    "df['distance'].unique()"
   ]
  },
  {
   "cell_type": "code",
   "execution_count": 13,
   "id": "b326a0b1",
   "metadata": {},
   "outputs": [],
   "source": [
    "dis_arr = df['distance'].unique()"
   ]
  },
  {
   "cell_type": "code",
   "execution_count": null,
   "id": "647eae93",
   "metadata": {},
   "outputs": [],
   "source": []
  },
  {
   "cell_type": "code",
   "execution_count": null,
   "id": "bb70b2e2",
   "metadata": {},
   "outputs": [],
   "source": []
  },
  {
   "cell_type": "code",
   "execution_count": null,
   "id": "796e98d4",
   "metadata": {},
   "outputs": [],
   "source": []
  },
  {
   "cell_type": "code",
   "execution_count": null,
   "id": "755589dc",
   "metadata": {},
   "outputs": [],
   "source": [
    "stan_model = \"\"\"\n",
    "data {\n",
    "  int N;\n",
    "  real X1[N];\n",
    "  real X2[N];\n",
    "  real X3[N];\n",
    "  real Y[N];\n",
    "}\n",
    "\n",
    "parameters {\n",
    "  real d;\n",
    "  real s;\n",
    "  real e;\n",
    "  real b;\n",
    "  real<lower=0> sigma;\n",
    "}\n",
    "\n",
    "model {\n",
    "  for (n in 1:N){\n",
    "    Y[n] ~ normal(d * X1[n] + s * X2[n] + e * X3[n] + b, sigma);\n",
    "  }\n",
    "}\n",
    "\"\"\""
   ]
  }
 ],
 "metadata": {
  "kernelspec": {
   "display_name": "Python 3",
   "language": "python",
   "name": "python3"
  },
  "language_info": {
   "codemirror_mode": {
    "name": "ipython",
    "version": 3
   },
   "file_extension": ".py",
   "mimetype": "text/x-python",
   "name": "python",
   "nbconvert_exporter": "python",
   "pygments_lexer": "ipython3",
   "version": "3.6.13"
  }
 },
 "nbformat": 4,
 "nbformat_minor": 5
}

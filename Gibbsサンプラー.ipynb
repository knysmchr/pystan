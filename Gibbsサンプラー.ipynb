{
 "cells": [
  {
   "cell_type": "code",
   "execution_count": 1,
   "id": "4673eced",
   "metadata": {},
   "outputs": [
    {
     "name": "stderr",
     "output_type": "stream",
     "text": [
      "/Users/knysmchr/opt/anaconda3/lib/python3.8/site-packages/IPython/html.py:12: ShimWarning: The `IPython.html` package has been deprecated since IPython 4.0. You should import from `notebook` instead. `IPython.html.widgets` has moved to `ipywidgets`.\n",
      "  warn(\"The `IPython.html` package has been deprecated since IPython 4.0. \"\n"
     ]
    }
   ],
   "source": [
    "import numpy as np\n",
    "from scipy.stats import norm, multivariate_normal\n",
    "import pandas as pd\n",
    "import matplotlib.pyplot as plt\n",
    "from IPython.html.widgets import interact\n",
    "%matplotlib inline"
   ]
  },
  {
   "cell_type": "code",
   "execution_count": 2,
   "id": "e14c2233",
   "metadata": {},
   "outputs": [],
   "source": [
    "plt.style.use('ggplot')\n",
    "np.random.seed(123)"
   ]
  },
  {
   "cell_type": "code",
   "execution_count": 3,
   "id": "1c7dc1c4",
   "metadata": {},
   "outputs": [],
   "source": [
    "mu = np.array([1, 2])\n",
    "cov = np.array([[1.0, 0.7], [0.7, 1.0]])"
   ]
  },
  {
   "cell_type": "code",
   "execution_count": 4,
   "id": "e4370a89",
   "metadata": {},
   "outputs": [],
   "source": [
    "x = np.arange(-2, 4, 0.01)\n",
    "y = np.arange(-1, 5, 0.01)\n",
    "X, Y = np.meshgrid(x, y)\n",
    "pos = np.zeros([X.shape[0], X.shape[1],2])\n",
    "pos[:,:,0] = X\n",
    "pos[:,:,1] = Y"
   ]
  },
  {
   "cell_type": "code",
   "execution_count": 5,
   "id": "619c97a9",
   "metadata": {},
   "outputs": [
    {
     "data": {
      "text/plain": [
       "Text(0, 0.5, '$x_{2}$')"
      ]
     },
     "execution_count": 5,
     "metadata": {},
     "output_type": "execute_result"
    },
    {
     "data": {
      "image/png": "[encoded data removed]",
      "text/plain": [
       "<Figure size 288x288 with 1 Axes>"
      ]
     },
     "metadata": {},
     "output_type": "display_data"
    }
   ],
   "source": [
    "rv = multivariate_normal(mu,cov)\n",
    "plt.figure(figsize=(4,4))\n",
    "plt.contour(X, Y, rv.pdf(pos), cmap='plasma')\n",
    "plt.xlabel('$x_{1}$')\n",
    "plt.ylabel('$x_{2}$')"
   ]
  },
  {
   "cell_type": "code",
   "execution_count": 9,
   "id": "9de07a86",
   "metadata": {},
   "outputs": [],
   "source": [
    "NMCS = 500\n",
    "sigma12 = cov[1,0]\n",
    "sigma1 = cov[0,0] ** 0.5\n",
    "sigma2 = cov[1,1] ** 0.5\n",
    "rho = sigma12 / (sigma1*sigma2)\n",
    "z1 = 0.0\n",
    "z2 = 0.0\n",
    "z1_mcs = [z1]\n",
    "z2_mcs = [z2]\n",
    "for i in range(NMCS):\n",
    "    #f(z1|z2)\n",
    "    z1 = norm.rvs(loc=rho*z2, scale=(1-rho**2)**0.5)\n",
    "    z1_mcs.append(z1)\n",
    "    z2_mcs.append(z2)\n",
    "    #f(z2|z1)\n",
    "    z2 = norm.rvs(loc=rho*z1, scale=(1-rho**2)**0.5)\n",
    "    z1_mcs.append(z1)\n",
    "    z2_mcs.append(z2)\n",
    "df1 = pd.DataFrame(mu[0] + np.array(z1_mcs) * sigma1)\n",
    "df2 = pd.DataFrame(mu[1] + np.array(z2_mcs) * sigma2)"
   ]
  },
  {
   "cell_type": "code",
   "execution_count": 10,
   "id": "88511f90",
   "metadata": {},
   "outputs": [
    {
     "data": {
      "text/html": [
       "<div>\n",
       "<style scoped>\n",
       "    .dataframe tbody tr th:only-of-type {\n",
       "        vertical-align: middle;\n",
       "    }\n",
       "\n",
       "    .dataframe tbody tr th {\n",
       "        vertical-align: top;\n",
       "    }\n",
       "\n",
       "    .dataframe thead th {\n",
       "        text-align: right;\n",
       "    }\n",
       "</style>\n",
       "<table border=\"1\" class=\"dataframe\">\n",
       "  <thead>\n",
       "    <tr style=\"text-align: right;\">\n",
       "      <th></th>\n",
       "      <th>0</th>\n",
       "    </tr>\n",
       "  </thead>\n",
       "  <tbody>\n",
       "    <tr>\n",
       "      <th>0</th>\n",
       "      <td>1.000000</td>\n",
       "    </tr>\n",
       "    <tr>\n",
       "      <th>1</th>\n",
       "      <td>0.465230</td>\n",
       "    </tr>\n",
       "    <tr>\n",
       "      <th>2</th>\n",
       "      <td>0.465230</td>\n",
       "    </tr>\n",
       "    <tr>\n",
       "      <th>3</th>\n",
       "      <td>1.534565</td>\n",
       "    </tr>\n",
       "    <tr>\n",
       "      <th>4</th>\n",
       "      <td>1.534565</td>\n",
       "    </tr>\n",
       "  </tbody>\n",
       "</table>\n",
       "</div>"
      ],
      "text/plain": [
       "          0\n",
       "0  1.000000\n",
       "1  0.465230\n",
       "2  0.465230\n",
       "3  1.534565\n",
       "4  1.534565"
      ]
     },
     "execution_count": 10,
     "metadata": {},
     "output_type": "execute_result"
    }
   ],
   "source": [
    "df1.head()"
   ]
  },
  {
   "cell_type": "code",
   "execution_count": 11,
   "id": "fb82e29e",
   "metadata": {},
   "outputs": [
    {
     "data": {
      "text/plain": [
       "[<matplotlib.lines.Line2D at 0x7fe34827b6d0>]"
      ]
     },
     "execution_count": 11,
     "metadata": {},
     "output_type": "execute_result"
    },
    {
     "data": {
      "image/png": "[encoded data removed]",
      "text/plain": [
       "<Figure size 432x288 with 1 Axes>"
      ]
     },
     "metadata": {},
     "output_type": "display_data"
    }
   ],
   "source": [
    "plt.plot(df1[0],df2[0])"
   ]
  },
  {
   "cell_type": "code",
   "execution_count": 12,
   "id": "530889aa",
   "metadata": {},
   "outputs": [
    {
     "data": {
      "application/vnd.jupyter.widget-view+json": {
       "model_id": "48886769773344eb8eb07fd732ff0c58",
       "version_major": 2,
       "version_minor": 0
      },
      "text/plain": [
       "interactive(children=(IntSlider(value=0, description='mcs'), Output()), _dom_classes=('widget-interact',))"
      ]
     },
     "metadata": {},
     "output_type": "display_data"
    }
   ],
   "source": [
    "@interact(mcs=(0,100,1))\n",
    "def animation(mcs=0):\n",
    "    plt.contour(X, Y, rv.pdf(pos), cmap='plasma')\n",
    "    plt.xlim([-3.0, 4.5])\n",
    "    plt.ylim([-1.0, 5.0])\n",
    "    plt.plot(df1[0][:mcs], df2[0][:mcs])\n",
    "    plt.show()"
   ]
  },
  {
   "cell_type": "code",
   "execution_count": null,
   "id": "46c7468e",
   "metadata": {},
   "outputs": [],
   "source": []
  }
 ],
 "metadata": {
  "kernelspec": {
   "display_name": "Python 3",
   "language": "python",
   "name": "python3"
  },
  "language_info": {
   "codemirror_mode": {
    "name": "ipython",
    "version": 3
   },
   "file_extension": ".py",
   "mimetype": "text/x-python",
   "name": "python",
   "nbconvert_exporter": "python",
   "pygments_lexer": "ipython3",
   "version": "3.8.8"
  }
 },
 "nbformat": 4,
 "nbformat_minor": 5
}

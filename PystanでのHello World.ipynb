{
 "cells": [
  {
   "cell_type": "code",
   "execution_count": 11,
   "id": "1d080ab0",
   "metadata": {},
   "outputs": [],
   "source": [
    "import pandas as pd\n",
    "import matplotlib.pyplot as plt\n",
    "import pystan\n",
    "%matplotlib inline\n",
    "\n",
    "import nest_asyncio\n",
    "nest_asyncio.apply()"
   ]
  },
  {
   "cell_type": "code",
   "execution_count": 12,
   "id": "25406299",
   "metadata": {},
   "outputs": [],
   "source": [
    "plt.style.use('ggplot')"
   ]
  },
  {
   "cell_type": "code",
   "execution_count": 15,
   "id": "e205f5a3",
   "metadata": {
    "scrolled": true
   },
   "outputs": [],
   "source": [
    "df = pd.read_excel('./data.xlsx', engine='openpyxl').drop(columns=['Unnamed: 0'])"
   ]
  },
  {
   "cell_type": "code",
   "execution_count": 16,
   "id": "0a27625a",
   "metadata": {},
   "outputs": [
    {
     "data": {
      "text/html": [
       "<div>\n",
       "<style scoped>\n",
       "    .dataframe tbody tr th:only-of-type {\n",
       "        vertical-align: middle;\n",
       "    }\n",
       "\n",
       "    .dataframe tbody tr th {\n",
       "        vertical-align: top;\n",
       "    }\n",
       "\n",
       "    .dataframe thead th {\n",
       "        text-align: right;\n",
       "    }\n",
       "</style>\n",
       "<table border=\"1\" class=\"dataframe\">\n",
       "  <thead>\n",
       "    <tr style=\"text-align: right;\">\n",
       "      <th></th>\n",
       "      <th>0</th>\n",
       "    </tr>\n",
       "  </thead>\n",
       "  <tbody>\n",
       "    <tr>\n",
       "      <th>0</th>\n",
       "      <td>3.896195</td>\n",
       "    </tr>\n",
       "    <tr>\n",
       "      <th>1</th>\n",
       "      <td>5.865766</td>\n",
       "    </tr>\n",
       "    <tr>\n",
       "      <th>2</th>\n",
       "      <td>5.860887</td>\n",
       "    </tr>\n",
       "    <tr>\n",
       "      <th>3</th>\n",
       "      <td>4.660614</td>\n",
       "    </tr>\n",
       "    <tr>\n",
       "      <th>4</th>\n",
       "      <td>5.263595</td>\n",
       "    </tr>\n",
       "  </tbody>\n",
       "</table>\n",
       "</div>"
      ],
      "text/plain": [
       "          0\n",
       "0  3.896195\n",
       "1  5.865766\n",
       "2  5.860887\n",
       "3  4.660614\n",
       "4  5.263595"
      ]
     },
     "execution_count": 16,
     "metadata": {},
     "output_type": "execute_result"
    }
   ],
   "source": [
    "df.head()"
   ]
  },
  {
   "cell_type": "code",
   "execution_count": 17,
   "id": "346a76a0",
   "metadata": {},
   "outputs": [
    {
     "data": {
      "text/plain": [
       "(array([ 1.,  1.,  5., 12., 10., 18., 16.,  8.,  5.,  4.]),\n",
       " array([2.29193477, 2.77510498, 3.25827519, 3.74144541, 4.22461562,\n",
       "        4.70778584, 5.19095605, 5.67412627, 6.15729648, 6.64046669,\n",
       "        7.12363691]),\n",
       " <BarContainer object of 10 artists>)"
      ]
     },
     "execution_count": 17,
     "metadata": {},
     "output_type": "execute_result"
    },
    {
     "data": {
      "image/png": "[encoded data removed]",
      "text/plain": [
       "<Figure size 432x288 with 1 Axes>"
      ]
     },
     "metadata": {},
     "output_type": "display_data"
    }
   ],
   "source": [
    "plt.hist(df[0])"
   ]
  },
  {
   "cell_type": "code",
   "execution_count": 18,
   "id": "6de1d33c",
   "metadata": {},
   "outputs": [],
   "source": [
    "stan_model = \"\"\"\n",
    "data {\n",
    "  int N;\n",
    "  real Y[N];\n",
    "}\n",
    "\n",
    "parameters {\n",
    "  real mu;\n",
    "  real<lower=0> sigma;\n",
    "}\n",
    "\n",
    "model {\n",
    "  for (i in 1:N){\n",
    "    Y[i] ~ normal(mu, sigma);\n",
    "  }\n",
    "}\n",
    "\"\"\""
   ]
  },
  {
   "cell_type": "code",
   "execution_count": 19,
   "id": "323afb84",
   "metadata": {},
   "outputs": [
    {
     "data": {
      "text/plain": [
       "0     3.896195\n",
       "1     5.865766\n",
       "2     5.860887\n",
       "3     4.660614\n",
       "4     5.263595\n",
       "        ...   \n",
       "75    3.926554\n",
       "76    5.062182\n",
       "77    5.010742\n",
       "78    5.257785\n",
       "79    3.684627\n",
       "Name: 0, Length: 80, dtype: float64"
      ]
     },
     "execution_count": 19,
     "metadata": {},
     "output_type": "execute_result"
    }
   ],
   "source": [
    "df[0]"
   ]
  },
  {
   "cell_type": "code",
   "execution_count": 26,
   "id": "596e48fa",
   "metadata": {},
   "outputs": [],
   "source": [
    "stan_data = {'N':df.shape[0], 'Y':df[0]}"
   ]
  },
  {
   "cell_type": "code",
   "execution_count": 27,
   "id": "5da16650",
   "metadata": {},
   "outputs": [
    {
     "name": "stderr",
     "output_type": "stream",
     "text": [
      "INFO:pystan:COMPILING THE C++ CODE FOR MODEL anon_model_4abdfcd24c05f6fb8dff0fb579217c90 NOW.\n",
      "/opt/anaconda3/envs/stan/lib/python3.6/site-packages/Cython/Compiler/Main.py:369: FutureWarning: Cython directive 'language_level' not set, using 2 for now (Py2). This will change in a later release! File: /var/folders/b0/3m9ppxz93zl2xj3hppxlrzbw0000gn/T/tmp8nrb0g0p/stanfit4anon_model_4abdfcd24c05f6fb8dff0fb579217c90_2741839436055103643.pyx\n",
      "  tree = Parsing.p_module(s, pxd, full_module_name)\n"
     ]
    }
   ],
   "source": [
    "sm = pystan.StanModel(model_code=stan_model)"
   ]
  },
  {
   "cell_type": "code",
   "execution_count": 29,
   "id": "93f5d45a",
   "metadata": {},
   "outputs": [],
   "source": [
    "fit = sm.sampling(data=stan_data, iter=2000, chains = 3, warmup = 500, seed=123)"
   ]
  },
  {
   "cell_type": "code",
   "execution_count": 30,
   "id": "1260316d",
   "metadata": {},
   "outputs": [
    {
     "data": {
      "text/plain": [
       "Inference for Stan model: anon_model_4abdfcd24c05f6fb8dff0fb579217c90.\n",
       "3 chains, each with iter=2000; warmup=500; thin=1; \n",
       "post-warmup draws per chain=1500, total post-warmup draws=4500.\n",
       "\n",
       "        mean se_mean     sd   2.5%    25%    50%    75%  97.5%  n_eff   Rhat\n",
       "mu      4.98  1.8e-3   0.11   4.76   4.91   4.98   5.05   5.19   3601    1.0\n",
       "sigma   0.97  1.4e-3   0.08   0.83   0.92   0.97   1.02   1.14   3220    1.0\n",
       "lp__  -37.06    0.02   1.01 -39.68 -37.45 -36.75 -36.35  -36.1   2071    1.0\n",
       "\n",
       "Samples were drawn using NUTS at Mon Aug  9 21:45:12 2021.\n",
       "For each parameter, n_eff is a crude measure of effective sample size,\n",
       "and Rhat is the potential scale reduction factor on split chains (at \n",
       "convergence, Rhat=1)."
      ]
     },
     "execution_count": 30,
     "metadata": {},
     "output_type": "execute_result"
    }
   ],
   "source": [
    "fit"
   ]
  },
  {
   "cell_type": "code",
   "execution_count": 33,
   "id": "27b4fa9d",
   "metadata": {},
   "outputs": [
    {
     "name": "stderr",
     "output_type": "stream",
     "text": [
      "WARNING:pystan:Deprecation warning. In future, use ArviZ library (`pip install arviz`)\n"
     ]
    },
    {
     "data": {
      "image/png": "[encoded data removed]",
      "text/plain": [
       "<Figure size 432x288 with 4 Axes>"
      ]
     },
     "metadata": {},
     "output_type": "display_data"
    }
   ],
   "source": [
    "fig = fit.plot()"
   ]
  },
  {
   "cell_type": "code",
   "execution_count": null,
   "id": "74e065ca",
   "metadata": {},
   "outputs": [],
   "source": []
  }
 ],
 "metadata": {
  "kernelspec": {
   "display_name": "Python 3",
   "language": "python",
   "name": "python3"
  },
  "language_info": {
   "codemirror_mode": {
    "name": "ipython",
    "version": 3
   },
   "file_extension": ".py",
   "mimetype": "text/x-python",
   "name": "python",
   "nbconvert_exporter": "python",
   "pygments_lexer": "ipython3",
   "version": "3.6.13"
  }
 },
 "nbformat": 4,
 "nbformat_minor": 5
}

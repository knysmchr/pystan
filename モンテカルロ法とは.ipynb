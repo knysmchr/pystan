{
 "cells": [
  {
   "cell_type": "code",
   "execution_count": 1,
   "id": "3448427f",
   "metadata": {},
   "outputs": [],
   "source": [
    "import numpy as np\n",
    "import pandas as pd\n",
    "import matplotlib.pyplot as plt\n",
    "from IPython.html.widgets import interact\n",
    "%matplotlib inline"
   ]
  },
  {
   "cell_type": "code",
   "execution_count": 2,
   "id": "26f98392",
   "metadata": {},
   "outputs": [],
   "source": [
    "plt.style.use('ggplot')\n",
    "np.random.seed(123)"
   ]
  },
  {
   "cell_type": "code",
   "execution_count": 13,
   "id": "1721cb2a",
   "metadata": {},
   "outputs": [
    {
     "name": "stdout",
     "output_type": "stream",
     "text": [
      "0.798\n"
     ]
    }
   ],
   "source": [
    "NMC = 500\n",
    "xmc = np.random.rand(NMC)\n",
    "ymc = np.random.rand(NMC)\n",
    "r = (xmc ** 2 + ymc ** 2) ** 0.5\n",
    "accept = np.where(r<=1, 1, 0)\n",
    "accept_ratio = np.sum(accept) / NMC\n",
    "print(accept_ratio)"
   ]
  },
  {
   "cell_type": "code",
   "execution_count": 16,
   "id": "1427f60c",
   "metadata": {},
   "outputs": [
    {
     "data": {
      "application/vnd.jupyter.widget-view+json": {
       "model_id": "feb29c74a2bf4e7995bed072897214a0",
       "version_major": 2,
       "version_minor": 0
      },
      "text/plain": [
       "interactive(children=(IntSlider(value=0, description='mcs', max=2000), Output()), _dom_classes=('widget-intera…"
      ]
     },
     "metadata": {},
     "output_type": "display_data"
    }
   ],
   "source": [
    "NMC = 2000\n",
    "xmc = np.random.rand(NMC)\n",
    "ymc = np.random.rand(NMC)\n",
    "@interact(mcs=(0,NMC,1))\n",
    "def animation(mcs=0):\n",
    "    plt.figure(figsize=(6,6))\n",
    "    plt.xlim([0,1])\n",
    "    plt.ylim([0,1])\n",
    "    x = np.arange(0,1,0.001)\n",
    "    y = (1 - x **2) ** 0.5\n",
    "    y2 = np.ones(x.shape[0])\n",
    "    plt.plot(x,y)\n",
    "    plt.fill_between(x, y, alpha=0.3)\n",
    "    plt.fill_between(x, y, y2, alpha=0.3)\n",
    "    r = (xmc[:mcs] ** 2 + ymc[:mcs] ** 2) ** 0.5\n",
    "    accept = np.where(r<=1, 1, 0)\n",
    "    accept_ratio = np.sum(accept) / mcs\n",
    "    plt.scatter(xmc[:mcs], ymc[:mcs], color='black', marker='.')\n",
    "    plt.show()\n",
    "    print('Monte Carlo: ',accept_ratio)\n",
    "    print('Analytical Solution: ', np.pi / 4.0)"
   ]
  },
  {
   "cell_type": "code",
   "execution_count": 10,
   "id": "ad5171f5",
   "metadata": {},
   "outputs": [],
   "source": [
    "pi_mcs = []\n",
    "NMC = 2000\n",
    "xmc = np.random.rand(NMC)\n",
    "ymc = np.random.rand(NMC)\n",
    "for mcs in range(1,NMC):\n",
    "    r = (xmc[:mcs] ** 2 + ymc[:mcs] ** 2) ** 0.5\n",
    "    accept = np.where(r<1, 1, 0)\n",
    "    accept_ratio = np.sum(accept) / mcs\n",
    "    pi_mcs.append(accept_ratio)"
   ]
  },
  {
   "cell_type": "code",
   "execution_count": 11,
   "id": "ad7065e0",
   "metadata": {},
   "outputs": [],
   "source": [
    "pi_x = np.arange(len(pi_mcs)) + 1"
   ]
  },
  {
   "cell_type": "code",
   "execution_count": 12,
   "id": "12cba0f5",
   "metadata": {},
   "outputs": [
    {
     "data": {
      "text/plain": [
       "Text(0, 0.5, 'accept ratio')"
      ]
     },
     "execution_count": 12,
     "metadata": {},
     "output_type": "execute_result"
    },
    {
     "data": {
      "image/png": "[encoded data removed]",
      "text/plain": [
       "<Figure size 432x288 with 1 Axes>"
      ]
     },
     "metadata": {},
     "output_type": "display_data"
    }
   ],
   "source": [
    "plt.plot(pi_x, pi_mcs)\n",
    "plt.hlines(0.785, pi_x[0], pi_x[-1], linestyles='dashed')\n",
    "plt.xlabel('MCS')\n",
    "plt.ylabel('accept ratio')"
   ]
  },
  {
   "cell_type": "code",
   "execution_count": null,
   "id": "c6b810c9",
   "metadata": {},
   "outputs": [],
   "source": []
  }
 ],
 "metadata": {
  "kernelspec": {
   "display_name": "Python 3",
   "language": "python",
   "name": "python3"
  },
  "language_info": {
   "codemirror_mode": {
    "name": "ipython",
    "version": 3
   },
   "file_extension": ".py",
   "mimetype": "text/x-python",
   "name": "python",
   "nbconvert_exporter": "python",
   "pygments_lexer": "ipython3",
   "version": "3.8.8"
  }
 },
 "nbformat": 4,
 "nbformat_minor": 5
}

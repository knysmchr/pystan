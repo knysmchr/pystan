{
 "cells": [
  {
   "cell_type": "code",
   "execution_count": 1,
   "id": "9b99e4bd",
   "metadata": {},
   "outputs": [],
   "source": [
    "import pandas as pd\n",
    "import matplotlib.pyplot as plt\n",
    "import numpy as np\n",
    "import pystan\n",
    "from scipy.stats import mstats\n",
    "%matplotlib inline"
   ]
  },
  {
   "cell_type": "code",
   "execution_count": 2,
   "id": "278ce8d6",
   "metadata": {},
   "outputs": [],
   "source": [
    "plt.style.use('ggplot')"
   ]
  },
  {
   "cell_type": "code",
   "execution_count": 3,
   "id": "19551f37",
   "metadata": {},
   "outputs": [],
   "source": [
    "df = pd.read_excel('./dose_response.xlsx', engine='openpyxl')"
   ]
  },
  {
   "cell_type": "code",
   "execution_count": 4,
   "id": "b488be65",
   "metadata": {},
   "outputs": [
    {
     "data": {
      "text/html": [
       "<div>\n",
       "<style scoped>\n",
       "    .dataframe tbody tr th:only-of-type {\n",
       "        vertical-align: middle;\n",
       "    }\n",
       "\n",
       "    .dataframe tbody tr th {\n",
       "        vertical-align: top;\n",
       "    }\n",
       "\n",
       "    .dataframe thead th {\n",
       "        text-align: right;\n",
       "    }\n",
       "</style>\n",
       "<table border=\"1\" class=\"dataframe\">\n",
       "  <thead>\n",
       "    <tr style=\"text-align: right;\">\n",
       "      <th></th>\n",
       "      <th>log10 C</th>\n",
       "      <th>death</th>\n",
       "    </tr>\n",
       "  </thead>\n",
       "  <tbody>\n",
       "    <tr>\n",
       "      <th>0</th>\n",
       "      <td>0.95</td>\n",
       "      <td>0</td>\n",
       "    </tr>\n",
       "    <tr>\n",
       "      <th>1</th>\n",
       "      <td>0.94</td>\n",
       "      <td>0</td>\n",
       "    </tr>\n",
       "    <tr>\n",
       "      <th>2</th>\n",
       "      <td>0.95</td>\n",
       "      <td>0</td>\n",
       "    </tr>\n",
       "    <tr>\n",
       "      <th>3</th>\n",
       "      <td>0.96</td>\n",
       "      <td>0</td>\n",
       "    </tr>\n",
       "    <tr>\n",
       "      <th>4</th>\n",
       "      <td>0.99</td>\n",
       "      <td>0</td>\n",
       "    </tr>\n",
       "  </tbody>\n",
       "</table>\n",
       "</div>"
      ],
      "text/plain": [
       "   log10 C  death\n",
       "0     0.95      0\n",
       "1     0.94      0\n",
       "2     0.95      0\n",
       "3     0.96      0\n",
       "4     0.99      0"
      ]
     },
     "execution_count": 4,
     "metadata": {},
     "output_type": "execute_result"
    }
   ],
   "source": [
    "df.head()"
   ]
  },
  {
   "cell_type": "code",
   "execution_count": 6,
   "id": "9338483a",
   "metadata": {},
   "outputs": [
    {
     "data": {
      "text/plain": [
       "<matplotlib.collections.PathCollection at 0x7fa16620a978>"
      ]
     },
     "execution_count": 6,
     "metadata": {},
     "output_type": "execute_result"
    },
    {
     "data": {
      "image/png": "[encoded data removed]",
      "text/plain": [
       "<Figure size 432x288 with 1 Axes>"
      ]
     },
     "metadata": {},
     "output_type": "display_data"
    }
   ],
   "source": [
    "plt.scatter(df['log10 C'],df['death'])"
   ]
  },
  {
   "cell_type": "code",
   "execution_count": 9,
   "id": "faaf18f9",
   "metadata": {},
   "outputs": [],
   "source": [
    "stan_model = \"\"\"\n",
    "data {\n",
    "  int N;\n",
    "  real X[N];\n",
    "  int<lower=0, upper=1> Y[N];\n",
    "}\n",
    "\n",
    "parameters {\n",
    "  real a;\n",
    "  real b;\n",
    "}\n",
    "\n",
    "model {\n",
    "  for (n in 1:N){\n",
    "    Y[n] ~ bernoulli_logit(a * X[n] + b);\n",
    "  }\n",
    "}\n",
    "\"\"\""
   ]
  },
  {
   "cell_type": "code",
   "execution_count": 10,
   "id": "97711ef7",
   "metadata": {},
   "outputs": [
    {
     "name": "stderr",
     "output_type": "stream",
     "text": [
      "INFO:pystan:COMPILING THE C++ CODE FOR MODEL anon_model_9bfa910b254b4f5d123324b7230aa149 NOW.\n",
      "/opt/anaconda3/envs/stan/lib/python3.6/site-packages/Cython/Compiler/Main.py:369: FutureWarning: Cython directive 'language_level' not set, using 2 for now (Py2). This will change in a later release! File: /var/folders/b0/3m9ppxz93zl2xj3hppxlrzbw0000gn/T/tmpu5bhpyj5/stanfit4anon_model_9bfa910b254b4f5d123324b7230aa149_2130780045475835625.pyx\n",
      "  tree = Parsing.p_module(s, pxd, full_module_name)\n"
     ]
    }
   ],
   "source": [
    "sm = pystan.StanModel(model_code = stan_model)"
   ]
  },
  {
   "cell_type": "code",
   "execution_count": 11,
   "id": "1fa32cf6",
   "metadata": {},
   "outputs": [],
   "source": [
    "stan_data = {'N':df.shape[0], 'X':df['log10 C'], 'Y':df['death']}"
   ]
  },
  {
   "cell_type": "code",
   "execution_count": 12,
   "id": "97fa6134",
   "metadata": {},
   "outputs": [],
   "source": [
    "fit = sm.sampling(data = stan_data, iter=2000, warmup=500, chains=3, seed=123)"
   ]
  },
  {
   "cell_type": "code",
   "execution_count": 13,
   "id": "ca5bcd16",
   "metadata": {},
   "outputs": [
    {
     "data": {
      "text/plain": [
       "Inference for Stan model: anon_model_9bfa910b254b4f5d123324b7230aa149.\n",
       "3 chains, each with iter=2000; warmup=500; thin=1; \n",
       "post-warmup draws per chain=1500, total post-warmup draws=4500.\n",
       "\n",
       "       mean se_mean     sd   2.5%    25%    50%    75%  97.5%  n_eff   Rhat\n",
       "a     13.83    0.14   3.51   8.46  11.33  13.41  15.84  22.06    649    1.0\n",
       "b    -20.64    0.21   5.32 -33.18 -23.65 -19.97 -16.86 -12.44    645    1.0\n",
       "lp__ -14.95    0.04    1.1 -17.78 -15.38 -14.61 -14.16 -13.89    937    1.0\n",
       "\n",
       "Samples were drawn using NUTS at Tue Aug 10 00:07:43 2021.\n",
       "For each parameter, n_eff is a crude measure of effective sample size,\n",
       "and Rhat is the potential scale reduction factor on split chains (at \n",
       "convergence, Rhat=1)."
      ]
     },
     "execution_count": 13,
     "metadata": {},
     "output_type": "execute_result"
    }
   ],
   "source": [
    "fit"
   ]
  },
  {
   "cell_type": "code",
   "execution_count": 14,
   "id": "62608c7d",
   "metadata": {},
   "outputs": [],
   "source": [
    "a, b = 13.83, -20.64"
   ]
  },
  {
   "cell_type": "code",
   "execution_count": 15,
   "id": "7db8e813",
   "metadata": {},
   "outputs": [
    {
     "name": "stderr",
     "output_type": "stream",
     "text": [
      "WARNING:pystan:Deprecation warning. In future, use ArviZ library (`pip install arviz`)\n"
     ]
    },
    {
     "data": {
      "image/png": "[encoded data removed]",
      "text/plain": [
       "<Figure size 432x288 with 4 Axes>"
      ]
     },
     "metadata": {},
     "output_type": "display_data"
    }
   ],
   "source": [
    "fig = fit.plot()"
   ]
  },
  {
   "cell_type": "code",
   "execution_count": 16,
   "id": "be22fa2c",
   "metadata": {},
   "outputs": [],
   "source": [
    "ms_a = fit.extract('a')['a']\n",
    "ms_b = fit.extract('b')['b']"
   ]
  },
  {
   "cell_type": "code",
   "execution_count": 17,
   "id": "4f61d102",
   "metadata": {},
   "outputs": [],
   "source": [
    "x = np.arange(1.0, 2.0, 0.01)\n",
    "f = lambda x: 1.0 / (1.0 + np.exp(-x))\n",
    "df_b = pd.DataFrame([])\n",
    "for i in range(x.shape[0]):\n",
    "    df_b[i] = f(ms_a * x[i] + ms_b)"
   ]
  },
  {
   "cell_type": "code",
   "execution_count": 18,
   "id": "e616c457",
   "metadata": {},
   "outputs": [
    {
     "data": {
      "text/html": [
       "<div>\n",
       "<style scoped>\n",
       "    .dataframe tbody tr th:only-of-type {\n",
       "        vertical-align: middle;\n",
       "    }\n",
       "\n",
       "    .dataframe tbody tr th {\n",
       "        vertical-align: top;\n",
       "    }\n",
       "\n",
       "    .dataframe thead th {\n",
       "        text-align: right;\n",
       "    }\n",
       "</style>\n",
       "<table border=\"1\" class=\"dataframe\">\n",
       "  <thead>\n",
       "    <tr style=\"text-align: right;\">\n",
       "      <th></th>\n",
       "      <th>0</th>\n",
       "      <th>1</th>\n",
       "      <th>2</th>\n",
       "      <th>3</th>\n",
       "      <th>4</th>\n",
       "      <th>5</th>\n",
       "      <th>6</th>\n",
       "      <th>7</th>\n",
       "      <th>8</th>\n",
       "      <th>9</th>\n",
       "      <th>...</th>\n",
       "      <th>90</th>\n",
       "      <th>91</th>\n",
       "      <th>92</th>\n",
       "      <th>93</th>\n",
       "      <th>94</th>\n",
       "      <th>95</th>\n",
       "      <th>96</th>\n",
       "      <th>97</th>\n",
       "      <th>98</th>\n",
       "      <th>99</th>\n",
       "    </tr>\n",
       "  </thead>\n",
       "  <tbody>\n",
       "    <tr>\n",
       "      <th>0</th>\n",
       "      <td>0.008296</td>\n",
       "      <td>0.009070</td>\n",
       "      <td>0.009915</td>\n",
       "      <td>0.010838</td>\n",
       "      <td>0.011846</td>\n",
       "      <td>0.012947</td>\n",
       "      <td>0.014148</td>\n",
       "      <td>0.015459</td>\n",
       "      <td>0.016890</td>\n",
       "      <td>0.018450</td>\n",
       "      <td>...</td>\n",
       "      <td>0.964842</td>\n",
       "      <td>0.967769</td>\n",
       "      <td>0.970460</td>\n",
       "      <td>0.972932</td>\n",
       "      <td>0.975203</td>\n",
       "      <td>0.977288</td>\n",
       "      <td>0.979201</td>\n",
       "      <td>0.980956</td>\n",
       "      <td>0.982566</td>\n",
       "      <td>0.984042</td>\n",
       "    </tr>\n",
       "    <tr>\n",
       "      <th>1</th>\n",
       "      <td>0.001538</td>\n",
       "      <td>0.001767</td>\n",
       "      <td>0.002030</td>\n",
       "      <td>0.002332</td>\n",
       "      <td>0.002679</td>\n",
       "      <td>0.003078</td>\n",
       "      <td>0.003536</td>\n",
       "      <td>0.004061</td>\n",
       "      <td>0.004664</td>\n",
       "      <td>0.005356</td>\n",
       "      <td>...</td>\n",
       "      <td>0.997629</td>\n",
       "      <td>0.997936</td>\n",
       "      <td>0.998204</td>\n",
       "      <td>0.998437</td>\n",
       "      <td>0.998639</td>\n",
       "      <td>0.998816</td>\n",
       "      <td>0.998969</td>\n",
       "      <td>0.999103</td>\n",
       "      <td>0.999220</td>\n",
       "      <td>0.999321</td>\n",
       "    </tr>\n",
       "    <tr>\n",
       "      <th>2</th>\n",
       "      <td>0.000482</td>\n",
       "      <td>0.000561</td>\n",
       "      <td>0.000652</td>\n",
       "      <td>0.000758</td>\n",
       "      <td>0.000881</td>\n",
       "      <td>0.001025</td>\n",
       "      <td>0.001191</td>\n",
       "      <td>0.001385</td>\n",
       "      <td>0.001611</td>\n",
       "      <td>0.001873</td>\n",
       "      <td>...</td>\n",
       "      <td>0.997395</td>\n",
       "      <td>0.997759</td>\n",
       "      <td>0.998073</td>\n",
       "      <td>0.998342</td>\n",
       "      <td>0.998574</td>\n",
       "      <td>0.998774</td>\n",
       "      <td>0.998945</td>\n",
       "      <td>0.999093</td>\n",
       "      <td>0.999220</td>\n",
       "      <td>0.999329</td>\n",
       "    </tr>\n",
       "    <tr>\n",
       "      <th>3</th>\n",
       "      <td>0.004109</td>\n",
       "      <td>0.004567</td>\n",
       "      <td>0.005076</td>\n",
       "      <td>0.005642</td>\n",
       "      <td>0.006270</td>\n",
       "      <td>0.006968</td>\n",
       "      <td>0.007743</td>\n",
       "      <td>0.008603</td>\n",
       "      <td>0.009558</td>\n",
       "      <td>0.010618</td>\n",
       "      <td>...</td>\n",
       "      <td>0.983195</td>\n",
       "      <td>0.984863</td>\n",
       "      <td>0.986367</td>\n",
       "      <td>0.987724</td>\n",
       "      <td>0.988948</td>\n",
       "      <td>0.990050</td>\n",
       "      <td>0.991044</td>\n",
       "      <td>0.991939</td>\n",
       "      <td>0.992746</td>\n",
       "      <td>0.993472</td>\n",
       "    </tr>\n",
       "    <tr>\n",
       "      <th>4</th>\n",
       "      <td>0.000020</td>\n",
       "      <td>0.000026</td>\n",
       "      <td>0.000032</td>\n",
       "      <td>0.000040</td>\n",
       "      <td>0.000050</td>\n",
       "      <td>0.000062</td>\n",
       "      <td>0.000078</td>\n",
       "      <td>0.000097</td>\n",
       "      <td>0.000121</td>\n",
       "      <td>0.000152</td>\n",
       "      <td>...</td>\n",
       "      <td>0.999905</td>\n",
       "      <td>0.999924</td>\n",
       "      <td>0.999939</td>\n",
       "      <td>0.999951</td>\n",
       "      <td>0.999961</td>\n",
       "      <td>0.999969</td>\n",
       "      <td>0.999975</td>\n",
       "      <td>0.999980</td>\n",
       "      <td>0.999984</td>\n",
       "      <td>0.999987</td>\n",
       "    </tr>\n",
       "  </tbody>\n",
       "</table>\n",
       "<p>5 rows × 100 columns</p>\n",
       "</div>"
      ],
      "text/plain": [
       "         0         1         2         3         4         5         6   \\\n",
       "0  0.008296  0.009070  0.009915  0.010838  0.011846  0.012947  0.014148   \n",
       "1  0.001538  0.001767  0.002030  0.002332  0.002679  0.003078  0.003536   \n",
       "2  0.000482  0.000561  0.000652  0.000758  0.000881  0.001025  0.001191   \n",
       "3  0.004109  0.004567  0.005076  0.005642  0.006270  0.006968  0.007743   \n",
       "4  0.000020  0.000026  0.000032  0.000040  0.000050  0.000062  0.000078   \n",
       "\n",
       "         7         8         9   ...        90        91        92        93  \\\n",
       "0  0.015459  0.016890  0.018450  ...  0.964842  0.967769  0.970460  0.972932   \n",
       "1  0.004061  0.004664  0.005356  ...  0.997629  0.997936  0.998204  0.998437   \n",
       "2  0.001385  0.001611  0.001873  ...  0.997395  0.997759  0.998073  0.998342   \n",
       "3  0.008603  0.009558  0.010618  ...  0.983195  0.984863  0.986367  0.987724   \n",
       "4  0.000097  0.000121  0.000152  ...  0.999905  0.999924  0.999939  0.999951   \n",
       "\n",
       "         94        95        96        97        98        99  \n",
       "0  0.975203  0.977288  0.979201  0.980956  0.982566  0.984042  \n",
       "1  0.998639  0.998816  0.998969  0.999103  0.999220  0.999321  \n",
       "2  0.998574  0.998774  0.998945  0.999093  0.999220  0.999329  \n",
       "3  0.988948  0.990050  0.991044  0.991939  0.992746  0.993472  \n",
       "4  0.999961  0.999969  0.999975  0.999980  0.999984  0.999987  \n",
       "\n",
       "[5 rows x 100 columns]"
      ]
     },
     "execution_count": 18,
     "metadata": {},
     "output_type": "execute_result"
    }
   ],
   "source": [
    "df_b.head()"
   ]
  },
  {
   "cell_type": "code",
   "execution_count": 19,
   "id": "a2097641",
   "metadata": {},
   "outputs": [],
   "source": [
    "low_Y50, hi_Y50 = mstats.mquantiles(df_b, [0.25,0.75], axis=0)\n",
    "low_Y95, hi_Y95 = mstats.mquantiles(df_b, [0.025,0.975], axis=0)"
   ]
  },
  {
   "cell_type": "code",
   "execution_count": 20,
   "id": "0ab5ac2e",
   "metadata": {},
   "outputs": [
    {
     "data": {
      "text/plain": [
       "[<matplotlib.lines.Line2D at 0x7fa167a299b0>]"
      ]
     },
     "execution_count": 20,
     "metadata": {},
     "output_type": "execute_result"
    },
    {
     "data": {
      "image/png": "[encoded data removed]",
      "text/plain": [
       "<Figure size 432x288 with 1 Axes>"
      ]
     },
     "metadata": {},
     "output_type": "display_data"
    }
   ],
   "source": [
    "plt.scatter(df['log10 C'], df['death'])\n",
    "plt.fill_between(x, low_Y95, hi_Y95, alpha = 0.3, color = 'gray')\n",
    "plt.fill_between(x, low_Y50, hi_Y50, alpha = 0.6, color = 'darkgray')\n",
    "plt.plot(x, f(a*x+b))"
   ]
  },
  {
   "cell_type": "code",
   "execution_count": null,
   "id": "9350f27e",
   "metadata": {},
   "outputs": [],
   "source": []
  }
 ],
 "metadata": {
  "kernelspec": {
   "display_name": "Python 3",
   "language": "python",
   "name": "python3"
  },
  "language_info": {
   "codemirror_mode": {
    "name": "ipython",
    "version": 3
   },
   "file_extension": ".py",
   "mimetype": "text/x-python",
   "name": "python",
   "nbconvert_exporter": "python",
   "pygments_lexer": "ipython3",
   "version": "3.6.13"
  }
 },
 "nbformat": 4,
 "nbformat_minor": 5
}
